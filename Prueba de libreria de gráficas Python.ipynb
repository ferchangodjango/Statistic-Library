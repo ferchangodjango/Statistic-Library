{
 "cells": [
  {
   "cell_type": "code",
   "execution_count": 42,
   "id": "e245c9ec",
   "metadata": {},
   "outputs": [],
   "source": [
    "from Graphs import Pareto,barra_stackeada,Box_Plot"
   ]
  },
  {
   "cell_type": "code",
   "execution_count": 4,
   "id": "e4778573",
   "metadata": {},
   "outputs": [],
   "source": [
    "from bokeh.plotting import show"
   ]
  },
  {
   "cell_type": "code",
   "execution_count": 8,
   "id": "6c4e0ff0",
   "metadata": {},
   "outputs": [],
   "source": [
    "import pandas as pd"
   ]
  },
  {
   "cell_type": "code",
   "execution_count": 5,
   "id": "0d01afea",
   "metadata": {},
   "outputs": [],
   "source": [
    "#Pareto(DATA_FRAME,column_index,column_values,color=\"#9B59B6\")"
   ]
  },
  {
   "cell_type": "code",
   "execution_count": 20,
   "id": "1e09be34",
   "metadata": {},
   "outputs": [],
   "source": [
    "data_frame=pd.DataFrame({\n",
    "    'Products':['Orange','Orange','Orange','Aple','Aple','Banana','Banana','Banana','Banana','Aple'],\n",
    "    'Profit':[100,200,300,800,300,100,200,300,400,300],\n",
    "    'Seller':['Fernando','Saul','Fernando','Saul','Fernando','Saul','Fernando','Saul','Fernando','Saul']\n",
    "})"
   ]
  },
  {
   "cell_type": "code",
   "execution_count": 48,
   "id": "1fdebb19",
   "metadata": {},
   "outputs": [
    {
     "data": {
      "text/html": [
       "<div>\n",
       "<style scoped>\n",
       "    .dataframe tbody tr th:only-of-type {\n",
       "        vertical-align: middle;\n",
       "    }\n",
       "\n",
       "    .dataframe tbody tr th {\n",
       "        vertical-align: top;\n",
       "    }\n",
       "\n",
       "    .dataframe thead th {\n",
       "        text-align: right;\n",
       "    }\n",
       "</style>\n",
       "<table border=\"1\" class=\"dataframe\">\n",
       "  <thead>\n",
       "    <tr style=\"text-align: right;\">\n",
       "      <th></th>\n",
       "      <th>Products</th>\n",
       "      <th>Profit</th>\n",
       "      <th>Seller</th>\n",
       "    </tr>\n",
       "  </thead>\n",
       "  <tbody>\n",
       "    <tr>\n",
       "      <th>0</th>\n",
       "      <td>Orange</td>\n",
       "      <td>100</td>\n",
       "      <td>Fernando</td>\n",
       "    </tr>\n",
       "    <tr>\n",
       "      <th>1</th>\n",
       "      <td>Orange</td>\n",
       "      <td>200</td>\n",
       "      <td>Saul</td>\n",
       "    </tr>\n",
       "    <tr>\n",
       "      <th>2</th>\n",
       "      <td>Orange</td>\n",
       "      <td>300</td>\n",
       "      <td>Fernando</td>\n",
       "    </tr>\n",
       "    <tr>\n",
       "      <th>3</th>\n",
       "      <td>Aple</td>\n",
       "      <td>800</td>\n",
       "      <td>Saul</td>\n",
       "    </tr>\n",
       "    <tr>\n",
       "      <th>4</th>\n",
       "      <td>Aple</td>\n",
       "      <td>300</td>\n",
       "      <td>Fernando</td>\n",
       "    </tr>\n",
       "    <tr>\n",
       "      <th>5</th>\n",
       "      <td>Banana</td>\n",
       "      <td>100</td>\n",
       "      <td>Saul</td>\n",
       "    </tr>\n",
       "    <tr>\n",
       "      <th>6</th>\n",
       "      <td>Banana</td>\n",
       "      <td>200</td>\n",
       "      <td>Fernando</td>\n",
       "    </tr>\n",
       "    <tr>\n",
       "      <th>7</th>\n",
       "      <td>Banana</td>\n",
       "      <td>300</td>\n",
       "      <td>Saul</td>\n",
       "    </tr>\n",
       "    <tr>\n",
       "      <th>8</th>\n",
       "      <td>Banana</td>\n",
       "      <td>400</td>\n",
       "      <td>Fernando</td>\n",
       "    </tr>\n",
       "    <tr>\n",
       "      <th>9</th>\n",
       "      <td>Aple</td>\n",
       "      <td>300</td>\n",
       "      <td>Saul</td>\n",
       "    </tr>\n",
       "  </tbody>\n",
       "</table>\n",
       "</div>"
      ],
      "text/plain": [
       "  Products  Profit    Seller\n",
       "0   Orange     100  Fernando\n",
       "1   Orange     200      Saul\n",
       "2   Orange     300  Fernando\n",
       "3     Aple     800      Saul\n",
       "4     Aple     300  Fernando\n",
       "5   Banana     100      Saul\n",
       "6   Banana     200  Fernando\n",
       "7   Banana     300      Saul\n",
       "8   Banana     400  Fernando\n",
       "9     Aple     300      Saul"
      ]
     },
     "execution_count": 48,
     "metadata": {},
     "output_type": "execute_result"
    }
   ],
   "source": [
    "\n",
    "dataframe_pareto=data_frame.groupby(['Products','Seller'])['Profit'].sum().reset_index()\n",
    "data_frame"
   ]
  },
  {
   "cell_type": "code",
   "execution_count": 23,
   "id": "89b7c709",
   "metadata": {},
   "outputs": [],
   "source": [
    "pareto=Pareto(dataframe_pareto,'Products','Profit',color=\"#9B59B6\")"
   ]
  },
  {
   "cell_type": "code",
   "execution_count": 24,
   "id": "12c6da95",
   "metadata": {},
   "outputs": [],
   "source": [
    "show(pareto)"
   ]
  },
  {
   "cell_type": "code",
   "execution_count": 40,
   "id": "7700bbdd",
   "metadata": {},
   "outputs": [],
   "source": [
    "\"\"\"def barra_stackeada(DATA_FRAME,column_index,column_columns,column_values,color_list=[\n",
    "            '#922B21','#B03A2E','#76448A','#6C3483',\n",
    "            '#1F618D','#2874A6','#117864','#0B5345',\n",
    "            '#196F3D','#7D6608','#6E2C00','#F5CBA7',\n",
    "            '#85C1E9'\n",
    "            ]):\"\"\"\n",
    "stackbarr=barra_stackeada(dataframe_pareto,'Seller','Products','Profit',color_list=[\n",
    "            '#922B21','#196F3D','#117864'])"
   ]
  },
  {
   "cell_type": "code",
   "execution_count": 41,
   "id": "ad4cc4cd",
   "metadata": {},
   "outputs": [],
   "source": [
    "show(stackbarr)"
   ]
  },
  {
   "cell_type": "code",
   "execution_count": 43,
   "id": "c7469ad2",
   "metadata": {},
   "outputs": [
    {
     "data": {
      "text/plain": [
       "'\\n3.- def Box_Plot(DATA_FRAME,column_index,column_values,type=1,color_list=Dark2[7])\\nFunctionality:Return a object type bokeh.plotting.figure.Figure,\\nwith this object you can show in the html page, or extract the sources, and components(\\nscript,div,js_components,css_components) for render in a web page.\\nArguments: For this function works, you need the following:\\n\\n3.0 dataframe,this dataframe need to content 2 columns or 1 column, a main column with strings, a second column\\n    with values.\\n3.1 column_index: this is a main column than have strings, only strings\\n3.2 column_values: this is a column than have values, for make calcules\\n3.3 color_list: it need a color list for the stackbars, you concidere the same number of \\n    colors than have the numer of unique elements of column_columns,this color is in HEXADECIMAL format,\\n    if you column_columns have 13 unique elements, you can use default list, but if is diferent,\\n    you need to define your own list.\\n'"
      ]
     },
     "execution_count": 43,
     "metadata": {},
     "output_type": "execute_result"
    }
   ],
   "source": [
    "\"\"\"\n",
    "3.- def Box_Plot(DATA_FRAME,column_index,column_values,type=1,color_list=Dark2[7])\n",
    "Functionality:Return a object type bokeh.plotting.figure.Figure,\n",
    "with this object you can show in the html page, or extract the sources, and components(\n",
    "script,div,js_components,css_components) for render in a web page.\n",
    "Arguments: For this function works, you need the following:\n",
    "\n",
    "3.0 dataframe,this dataframe need to content 2 columns or 1 column, a main column with strings, a second column\n",
    "    with values.\n",
    "3.1 column_index: this is a main column than have strings, only strings\n",
    "3.2 column_values: this is a column than have values, for make calcules\n",
    "3.3 color_list: it need a color list for the stackbars, you concidere the same number of \n",
    "    colors than have the numer of unique elements of column_columns,this color is in HEXADECIMAL format,\n",
    "    if you column_columns have 13 unique elements, you can use default list, but if is diferent,\n",
    "    you need to define your own list.\n",
    "\"\"\""
   ]
  },
  {
   "cell_type": "code",
   "execution_count": 46,
   "id": "9850596e",
   "metadata": {},
   "outputs": [],
   "source": [
    "#3.- def Box_Plot(DATA_FRAME,column_index,column_values,color_list=Dark2[7])\n",
    "boxplot=Box_Plot(data_frame,'Seller','Profit')"
   ]
  },
  {
   "cell_type": "code",
   "execution_count": 47,
   "id": "244eebd9",
   "metadata": {},
   "outputs": [],
   "source": [
    "show(boxplot)"
   ]
  },
  {
   "cell_type": "code",
   "execution_count": null,
   "id": "18c3d58c",
   "metadata": {},
   "outputs": [],
   "source": []
  }
 ],
 "metadata": {
  "kernelspec": {
   "display_name": "Python 3 (ipykernel)",
   "language": "python",
   "name": "python3"
  },
  "language_info": {
   "codemirror_mode": {
    "name": "ipython",
    "version": 3
   },
   "file_extension": ".py",
   "mimetype": "text/x-python",
   "name": "python",
   "nbconvert_exporter": "python",
   "pygments_lexer": "ipython3",
   "version": "3.10.1"
  },
  "toc": {
   "base_numbering": 1,
   "nav_menu": {},
   "number_sections": true,
   "sideBar": true,
   "skip_h1_title": false,
   "title_cell": "Table of Contents",
   "title_sidebar": "Contents",
   "toc_cell": false,
   "toc_position": {},
   "toc_section_display": true,
   "toc_window_display": false
  }
 },
 "nbformat": 4,
 "nbformat_minor": 5
}
